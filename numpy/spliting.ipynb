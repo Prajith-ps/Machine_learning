{
 "cells": [
  {
   "cell_type": "code",
   "execution_count": 13,
   "id": "99abb25d-3a8e-4c4e-8ae5-caed289a42a4",
   "metadata": {},
   "outputs": [
    {
     "name": "stdout",
     "output_type": "stream",
     "text": [
      "[array([2, 3, 4]), array([5, 6, 7])]\n"
     ]
    }
   ],
   "source": [
    "import numpy as np\n",
    "x=np.array([2,3,4,5,6,7])\n",
    "x_new=np.array_split(x,2)\n",
    "print(x_new)"
   ]
  },
  {
   "cell_type": "code",
   "execution_count": 15,
   "id": "0cdeaf4c-be30-45c1-b887-7076b56c5867",
   "metadata": {},
   "outputs": [
    {
     "name": "stdout",
     "output_type": "stream",
     "text": [
      "[array([2, 3]), array([4, 5]), array([6, 7])]\n"
     ]
    }
   ],
   "source": [
    "import numpy as np\n",
    "x=np.array([2,3,4,5,6,7])\n",
    "x_new=np.array_split(x,3)\n",
    "print(x_new)"
   ]
  },
  {
   "cell_type": "code",
   "execution_count": 29,
   "id": "ca977444-a2c6-4a58-8403-df1e052bb1f2",
   "metadata": {},
   "outputs": [
    {
     "name": "stdout",
     "output_type": "stream",
     "text": [
      "[1 2]\n",
      "[3 4]\n",
      "[5 6]\n"
     ]
    }
   ],
   "source": [
    "import numpy as np\n",
    "x=np.array([1,2,3,4,5,6])\n",
    "x_new=np.array_split(x,3)\n",
    "print(x_new[0])\n",
    "print(x_new[1])\n",
    "print(x_new[2])"
   ]
  },
  {
   "cell_type": "code",
   "execution_count": 31,
   "id": "a99b52e3-de38-4ada-9514-086f039b1c30",
   "metadata": {},
   "outputs": [
    {
     "name": "stdout",
     "output_type": "stream",
     "text": [
      "[array([2, 3]), array([4, 5]), array([6, 7])]\n"
     ]
    }
   ],
   "source": [
    "#hsplit(horizontal )\n",
    "import numpy as np\n",
    "x=np.array([2,3,4,5,6,7])\n",
    "x_new=np.hsplit(x,3)\n",
    "print(x_new)"
   ]
  },
  {
   "cell_type": "code",
   "execution_count": 41,
   "id": "641e9bb9-3834-48c8-999d-5c1ee1a19ab5",
   "metadata": {},
   "outputs": [
    {
     "name": "stdout",
     "output_type": "stream",
     "text": [
      "[array([[1],\n",
      "       [4]]), array([[2],\n",
      "       [5]]), array([[3],\n",
      "       [6]])]\n"
     ]
    }
   ],
   "source": [
    "import numpy as np\n",
    "x = np.array([[1, 2, 3], [4, 5, 6]])\n",
    "x_new = np.hsplit(x, 3)\n",
    "print(x_new)"
   ]
  },
  {
   "cell_type": "code",
   "execution_count": 45,
   "id": "f5f9d0b4-b799-4bfd-a19e-553a976da39c",
   "metadata": {},
   "outputs": [
    {
     "name": "stdout",
     "output_type": "stream",
     "text": [
      "[array([[1, 2, 3]]), array([[4, 5, 6]])]\n"
     ]
    }
   ],
   "source": [
    "#vsplit\n",
    "import numpy as np\n",
    "x=np.array([[1,2,3],[4,5,6]])\n",
    "x_new=np.vsplit(x,2)\n",
    "print(x_new)"
   ]
  },
  {
   "cell_type": "code",
   "execution_count": null,
   "id": "25816ab2-418a-40a9-86d5-d40cc047a8e4",
   "metadata": {},
   "outputs": [],
   "source": []
  }
 ],
 "metadata": {
  "kernelspec": {
   "display_name": "Python 3 (ipykernel)",
   "language": "python",
   "name": "python3"
  },
  "language_info": {
   "codemirror_mode": {
    "name": "ipython",
    "version": 3
   },
   "file_extension": ".py",
   "mimetype": "text/x-python",
   "name": "python",
   "nbconvert_exporter": "python",
   "pygments_lexer": "ipython3",
   "version": "3.12.4"
  }
 },
 "nbformat": 4,
 "nbformat_minor": 5
}
